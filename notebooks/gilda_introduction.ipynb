{
 "cells": [
  {
   "cell_type": "markdown",
   "metadata": {},
   "source": [
    "# Introduction to using Gilda"
   ]
  },
  {
   "cell_type": "markdown",
   "metadata": {},
   "source": [
    "## Using Gilda through its Python API\n",
    "First, we `import gilda`, which allows us to access its API functions, most importantly, `ground`. The `ground` function takes a string argument which is the entity string to be grounded. It also takes an optional `context` argument, another string, which serves as additional text context to disambiguate the query string in case it is ambiguous."
   ]
  },
  {
   "cell_type": "code",
   "execution_count": 1,
   "metadata": {},
   "outputs": [],
   "source": [
    "import gilda\n",
    "scored_matches = gilda.ground('k-ras')"
   ]
  },
  {
   "cell_type": "markdown",
   "metadata": {},
   "source": [
    "The `ground` function returns a list of `ScoredMatch` objects which contain a `Term` (a grounded entity) and some metadata about the grounding process, including a `score` which can be used for ranking matches. The list of `ScoredMatch`-es is always returned in reverse sorted order by score."
   ]
  },
  {
   "cell_type": "code",
   "execution_count": 2,
   "metadata": {},
   "outputs": [
    {
     "data": {
      "text/plain": [
       "Term(kras,Kras,HGNC,6407,KRAS,assertion,famplex)"
      ]
     },
     "execution_count": 2,
     "metadata": {},
     "output_type": "execute_result"
    }
   ],
   "source": [
    "scored_matches[0].term"
   ]
  },
  {
   "cell_type": "markdown",
   "metadata": {},
   "source": [
    "The namespace and ID of the resulting term can now be used for any downstream task."
   ]
  },
  {
   "cell_type": "code",
   "execution_count": 3,
   "metadata": {},
   "outputs": [
    {
     "data": {
      "text/plain": [
       "('HGNC', '6407')"
      ]
     },
     "execution_count": 3,
     "metadata": {},
     "output_type": "execute_result"
    }
   ],
   "source": [
    "scored_matches[0].term.db, scored_matches[0].term.id"
   ]
  },
  {
   "cell_type": "markdown",
   "metadata": {},
   "source": [
    "## Using Gilda as a web service\n",
    "First, the Gilda service needs to be running. The public service is available at"
   ]
  },
  {
   "cell_type": "code",
   "execution_count": 4,
   "metadata": {},
   "outputs": [],
   "source": [
    "public_url = 'http://grounding.indra.bio/ground'"
   ]
  },
  {
   "cell_type": "markdown",
   "metadata": {},
   "source": [
    "but it is also possible to run the Gilda service locally by doing `python -m gilda.app` and then using the local address as"
   ]
  },
  {
   "cell_type": "code",
   "execution_count": 5,
   "metadata": {},
   "outputs": [],
   "source": [
    "local_url = 'http://localhost:8001/ground'"
   ]
  },
  {
   "cell_type": "markdown",
   "metadata": {},
   "source": [
    "By default, here we will use the `public_url` to show how Gilda works."
   ]
  },
  {
   "cell_type": "code",
   "execution_count": 6,
   "metadata": {},
   "outputs": [],
   "source": [
    "url = public_url"
   ]
  },
  {
   "cell_type": "markdown",
   "metadata": {},
   "source": [
    "### Submitting a request to the service"
   ]
  },
  {
   "cell_type": "markdown",
   "metadata": {},
   "source": [
    "The following helper function submits a request to the service and returns the result."
   ]
  },
  {
   "cell_type": "code",
   "execution_count": 7,
   "metadata": {},
   "outputs": [],
   "source": [
    "import requests\n",
    "def ground(url, text, context=None):\n",
    "    res = requests.post(url, json={'text': text, 'context': context})\n",
    "    return res.json()"
   ]
  },
  {
   "cell_type": "markdown",
   "metadata": {},
   "source": [
    "#### Simple entity string with one match\n",
    "In this first example, we submit the string `k-ras` for grounding. It doesn't directly match any names or synonyms in the integrated resources, but the approximate string matching accounts for capitalization and dashes, and finds the `KRAS` gene as the unique match.\n",
    "\n",
    "Note the following details of the returned value:\n",
    "- The returned value is a list of scored matches, in this case it only has 1 element\n",
    "- Each scored match contains 3 keys: term, score, and match\n",
    "- The `term` describes the entry that the string was matched to, including the database / name space `db`, the identifier within that namespace `id`, the standardized name of the entry `entry_name`, and some other epistemic information including the `status`, `source`, and `norm_text` corresponding to the entry.\n",
    "- The `score` is a number between 0 and 1, with \"better\" matches corresponding to a higher score. The service, by default, sorts scored matches from highest to lowest score.\n",
    "- The `match` field is there as meta-data about the match, it characterizes details of how the input string relates to the entry, and users typically do not need to use it directly."
   ]
  },
  {
   "cell_type": "code",
   "execution_count": 8,
   "metadata": {},
   "outputs": [
    {
     "data": {
      "text/plain": [
       "[{'match': {'cap_combos': [['all_lower', 'single_cap_letter']],\n",
       "   'dash_mismatches': ['query'],\n",
       "   'exact': True,\n",
       "   'query': 'k-ras',\n",
       "   'ref': 'Kras',\n",
       "   'space_mismatch': False},\n",
       "  'score': 0.9936095650381365,\n",
       "  'term': {'db': 'HGNC',\n",
       "   'entry_name': 'KRAS',\n",
       "   'id': '6407',\n",
       "   'norm_text': 'kras',\n",
       "   'source': 'famplex',\n",
       "   'status': 'assertion',\n",
       "   'text': 'Kras'}}]"
      ]
     },
     "execution_count": 8,
     "metadata": {},
     "output_type": "execute_result"
    }
   ],
   "source": [
    "ground(url, 'k-ras')"
   ]
  },
  {
   "cell_type": "markdown",
   "metadata": {},
   "source": [
    "#### Simple entity string with multiple matches\n",
    "Let's now look at an example where there are multiple matches but with different statuses. Here `MEK` is an exact match for the MEK protein family, asserted by FamPlex, and a match for a synonym of a chemical in ChEBI called butan-2-one. The protein family gets a much higher score due to its prioritization as an official name."
   ]
  },
  {
   "cell_type": "code",
   "execution_count": 9,
   "metadata": {},
   "outputs": [
    {
     "data": {
      "text/plain": [
       "[{'match': {'cap_combos': [],\n",
       "   'dash_mismatches': [],\n",
       "   'exact': True,\n",
       "   'query': 'MEK',\n",
       "   'ref': 'MEK',\n",
       "   'space_mismatch': False},\n",
       "  'score': 1.0,\n",
       "  'term': {'db': 'FPLX',\n",
       "   'entry_name': 'MEK',\n",
       "   'id': 'MEK',\n",
       "   'norm_text': 'mek',\n",
       "   'source': 'famplex',\n",
       "   'status': 'assertion',\n",
       "   'text': 'MEK'}},\n",
       " {'match': {'cap_combos': [],\n",
       "   'dash_mismatches': [],\n",
       "   'exact': True,\n",
       "   'query': 'MEK',\n",
       "   'ref': 'MEK',\n",
       "   'space_mismatch': False},\n",
       "  'score': 0.5555555555555556,\n",
       "  'term': {'db': 'CHEBI',\n",
       "   'entry_name': 'butan-2-one',\n",
       "   'id': 'CHEBI:28398',\n",
       "   'norm_text': 'mek',\n",
       "   'source': 'chebi',\n",
       "   'status': 'synonym',\n",
       "   'text': 'MEK'}}]"
      ]
     },
     "execution_count": 9,
     "metadata": {},
     "output_type": "execute_result"
    }
   ],
   "source": [
    "ground(url, 'MEK')"
   ]
  },
  {
   "cell_type": "markdown",
   "metadata": {},
   "source": [
    "### Grounding with contextual disambiguation\n",
    "In this example, we demonstrate how Gilda can disambiguate entity senses based on additional context. Gilda integrates Adeft, and relies on one of the 46 trained models that Adeft provides (https://github.com/indralab/adeft) to disambiguate an entity text based on some additional context (i.e., surrounding text).\n",
    "\n",
    "We look at \"IR\" as an example, which is widely used in the literature as an acronym for e.g., insulin receptor, and ionizing radiation.\n",
    "\n",
    "In the first example, we ground IR with context implying the insulin receptor sense:"
   ]
  },
  {
   "cell_type": "code",
   "execution_count": 10,
   "metadata": {},
   "outputs": [
    {
     "data": {
      "text/plain": [
       "{'disambiguation': {'match': 'grounded',\n",
       "  'score': 0.9945447300565196,\n",
       "  'type': 'adeft'},\n",
       " 'match': {'cap_combos': [],\n",
       "  'dash_mismatches': [],\n",
       "  'exact': True,\n",
       "  'query': 'IR',\n",
       "  'ref': 'IR',\n",
       "  'space_mismatch': False},\n",
       " 'score': 0.9945447300565196,\n",
       " 'term': {'db': 'HGNC',\n",
       "  'entry_name': 'INSR',\n",
       "  'id': '6091',\n",
       "  'norm_text': 'ir',\n",
       "  'source': 'famplex',\n",
       "  'status': 'assertion',\n",
       "  'text': 'IR'}}"
      ]
     },
     "execution_count": 10,
     "metadata": {},
     "output_type": "execute_result"
    }
   ],
   "source": [
    "ground(url, 'IR', context='IR binds INS at the membrane.')[0]"
   ]
  },
  {
   "cell_type": "markdown",
   "metadata": {},
   "source": [
    "As expected, the top grounding we get is to the insulin receptor gene, INSR.\n",
    "\n",
    "Next, we look at a sentence which implies that IR is used in the sense of ionizing radiation:"
   ]
  },
  {
   "cell_type": "code",
   "execution_count": 11,
   "metadata": {},
   "outputs": [
    {
     "data": {
      "text/plain": [
       "{'disambiguation': {'match': 'grounded',\n",
       "  'score': 0.9915279740334499,\n",
       "  'type': 'adeft'},\n",
       " 'match': {'cap_combos': [],\n",
       "  'dash_mismatches': [],\n",
       "  'exact': True,\n",
       "  'query': 'IR',\n",
       "  'ref': 'IR',\n",
       "  'space_mismatch': False},\n",
       " 'score': 0.9915279740334499,\n",
       " 'term': {'db': 'MESH',\n",
       "  'entry_name': 'Radiation, Ionizing',\n",
       "  'id': 'D011839',\n",
       "  'norm_text': 'ir',\n",
       "  'source': 'famplex',\n",
       "  'status': 'assertion',\n",
       "  'text': 'IR'}}"
      ]
     },
     "execution_count": 11,
     "metadata": {},
     "output_type": "execute_result"
    }
   ],
   "source": [
    "ground(url, 'IR', context='IR can cause DNA damage.')[0]"
   ]
  },
  {
   "cell_type": "markdown",
   "metadata": {},
   "source": [
    "In this case, we end up with the MeSH entry representing ionizing radiation as the top grounding.\n",
    "The above examples demonstrate that in many cases, even a few words of surrounding text can help reliably dismbiguate senses. Generally, disambiguation becomes more accurate given more context, e.g., the full text of the article containing the entity string."
   ]
  }
 ],
 "metadata": {
  "kernelspec": {
   "display_name": "Python 3",
   "language": "python",
   "name": "python3"
  },
  "language_info": {
   "codemirror_mode": {
    "name": "ipython",
    "version": 3
   },
   "file_extension": ".py",
   "mimetype": "text/x-python",
   "name": "python",
   "nbconvert_exporter": "python",
   "pygments_lexer": "ipython3",
   "version": "3.9.9"
  }
 },
 "nbformat": 4,
 "nbformat_minor": 2
}
