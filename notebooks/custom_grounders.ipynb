{
 "cells": [
  {
   "cell_type": "markdown",
   "id": "65c15681",
   "metadata": {},
   "source": [
    "# Making a Custom Grounder for Gilda\n",
    "\n",
    "This tutorial presents several ways of generating custom groundings that can be used with Gilda."
   ]
  },
  {
   "cell_type": "code",
   "execution_count": 1,
   "id": "083036f4",
   "metadata": {},
   "outputs": [],
   "source": [
    "import gilda\n",
    "import gilda.term\n",
    "from tabulate import tabulate\n",
    "from gilda.process import normalize\n",
    "import pandas as pd\n",
    "import time\n",
    "import sys\n",
    "from tqdm.auto import tqdm"
   ]
  },
  {
   "cell_type": "code",
   "execution_count": 2,
   "id": "d9bad61c",
   "metadata": {},
   "outputs": [
    {
     "name": "stdout",
     "output_type": "stream",
     "text": [
      "3.10.2 (main, Feb  2 2022, 06:19:27) [Clang 13.0.0 (clang-1300.0.29.3)]\n"
     ]
    }
   ],
   "source": [
    "print(sys.version)"
   ]
  },
  {
   "cell_type": "code",
   "execution_count": 3,
   "id": "759d2492",
   "metadata": {},
   "outputs": [
    {
     "name": "stdout",
     "output_type": "stream",
     "text": [
      "Tue Apr 26 17:48:13 2022\n"
     ]
    }
   ],
   "source": [
    "print(time.asctime())"
   ]
  },
  {
   "cell_type": "code",
   "execution_count": 4,
   "id": "a231c405",
   "metadata": {},
   "outputs": [],
   "source": [
    "def matches_df(scored_matches) -> pd.DataFrame:\n",
    "    return pd.DataFrame([\n",
    "        { \n",
    "            **m.term.to_json(),\n",
    "            'score': m.score,\n",
    "        } \n",
    "        for m in scored_matches\n",
    "    ])"
   ]
  },
  {
   "cell_type": "markdown",
   "id": "2bce0cde",
   "metadata": {},
   "source": [
    "# Custom Terms from an Ontology via *OBO Graph JSON*\n",
    "\n",
    "Many ontologies are pre-parsed into the [OBO Graph JSON](https://github.com/geneontology/obographs) format that are readily usable without ontology-specific software. In this example, we get the URL for an OBO Graph JSON for the [Monarch Disease Ontolgy (MONDO)](https://obofoundry.org/ontology/mondo) then generate Gilda terms for its entries based on their names and synonyms."
   ]
  },
  {
   "cell_type": "code",
   "execution_count": 5,
   "id": "5dc9cfa7",
   "metadata": {},
   "outputs": [],
   "source": [
    "import requests\n",
    "    \n",
    "def terms_from_obograph_url(url, prefix, uri_prefix):\n",
    "    res = requests.get(url).json()\n",
    "    custom_terms = []\n",
    "    missing_label = 0\n",
    "\n",
    "    for node in tqdm(res['graphs'][0]['nodes'], unit_scale=True, unit=\"node\"):\n",
    "        uri = node['id']\n",
    "        if not uri.startswith(uri_prefix):\n",
    "            continue  # skip imported terms\n",
    "\n",
    "        identifier = uri[len(uri_prefix):]\n",
    "\n",
    "        name = node.get('lbl')\n",
    "        if name is None:\n",
    "            missing_label += 1\n",
    "            continue\n",
    "\n",
    "        custom_terms.append(gilda.term.Term(\n",
    "            norm_text=normalize(name),\n",
    "            text=name,\n",
    "            db=prefix,\n",
    "            id=identifier,\n",
    "            entry_name=name,\n",
    "            status=\"name\",\n",
    "            source=prefix,\n",
    "        ))\n",
    "        for synonym_data in node.get('meta', {}).get('synonyms', []):\n",
    "            synonym = synonym_data['val']\n",
    "            custom_terms.append(gilda.term.Term(\n",
    "                norm_text=normalize(synonym),\n",
    "                text=synonym,\n",
    "                db=prefix,\n",
    "                id=identifier,\n",
    "                entry_name=name,\n",
    "                status=\"synonym\",\n",
    "                source=prefix,\n",
    "            ))\n",
    "\n",
    "    print(f\"{missing_label:,} nodes were missing labels\")\n",
    "    return custom_terms"
   ]
  },
  {
   "cell_type": "code",
   "execution_count": 6,
   "id": "a3bea18d",
   "metadata": {},
   "outputs": [
    {
     "data": {
      "application/vnd.jupyter.widget-view+json": {
       "model_id": "de34eacc52f1449ba4cd28d90032ff8f",
       "version_major": 2,
       "version_minor": 0
      },
      "text/plain": [
       "  0%|          | 0.00/44.3k [00:00<?, ?node/s]"
      ]
     },
     "metadata": {},
     "output_type": "display_data"
    },
    {
     "name": "stdout",
     "output_type": "stream",
     "text": [
      "74 nodes were missing labels\n",
      "Lookups: 112,921\n",
      "Terms: 128,873\n",
      "Term Namespaces: {'MONDO'}\n",
      "Term Statuses: {'name': 24907, 'synonym': 103966}\n",
      "Adeft Disambiguators: 202\n",
      "Gilda Disambiguators: 1,008\n",
      "\n"
     ]
    }
   ],
   "source": [
    "mondo_url = 'http://purl.obolibrary.org/obo/mondo.json'\n",
    "mondo_prefix = \"MONDO\"\n",
    "mondo_uri_prefix = \"http://purl.obolibrary.org/obo/MONDO_\"\n",
    "\n",
    "mondo_terms = terms_from_obograph_url(mondo_url, mondo_prefix, mondo_uri_prefix)\n",
    "mondo_grounder = gilda.make_grounder(mondo_terms)\n",
    "mondo_grounder.print_summary()"
   ]
  },
  {
   "cell_type": "code",
   "execution_count": 7,
   "id": "3195b93c",
   "metadata": {},
   "outputs": [
    {
     "data": {
      "text/html": [
       "<div>\n",
       "<style scoped>\n",
       "    .dataframe tbody tr th:only-of-type {\n",
       "        vertical-align: middle;\n",
       "    }\n",
       "\n",
       "    .dataframe tbody tr th {\n",
       "        vertical-align: top;\n",
       "    }\n",
       "\n",
       "    .dataframe thead th {\n",
       "        text-align: right;\n",
       "    }\n",
       "</style>\n",
       "<table border=\"1\" class=\"dataframe\">\n",
       "  <thead>\n",
       "    <tr style=\"text-align: right;\">\n",
       "      <th></th>\n",
       "      <th>norm_text</th>\n",
       "      <th>text</th>\n",
       "      <th>db</th>\n",
       "      <th>id</th>\n",
       "      <th>entry_name</th>\n",
       "      <th>status</th>\n",
       "      <th>source</th>\n",
       "      <th>score</th>\n",
       "    </tr>\n",
       "  </thead>\n",
       "  <tbody>\n",
       "    <tr>\n",
       "      <th>0</th>\n",
       "      <td>alzheimer disease</td>\n",
       "      <td>Alzheimer disease</td>\n",
       "      <td>MONDO</td>\n",
       "      <td>0004975</td>\n",
       "      <td>Alzheimer disease</td>\n",
       "      <td>name</td>\n",
       "      <td>MONDO</td>\n",
       "      <td>0.771593</td>\n",
       "    </tr>\n",
       "    <tr>\n",
       "      <th>1</th>\n",
       "      <td>alzheimer disease</td>\n",
       "      <td>Alzheimer disease</td>\n",
       "      <td>MONDO</td>\n",
       "      <td>0007088</td>\n",
       "      <td>Alzheimer disease type 1</td>\n",
       "      <td>synonym</td>\n",
       "      <td>MONDO</td>\n",
       "      <td>0.549371</td>\n",
       "    </tr>\n",
       "  </tbody>\n",
       "</table>\n",
       "</div>"
      ],
      "text/plain": [
       "           norm_text               text     db       id  \\\n",
       "0  alzheimer disease  Alzheimer disease  MONDO  0004975   \n",
       "1  alzheimer disease  Alzheimer disease  MONDO  0007088   \n",
       "\n",
       "                 entry_name   status source     score  \n",
       "0         Alzheimer disease     name  MONDO  0.771593  \n",
       "1  Alzheimer disease type 1  synonym  MONDO  0.549371  "
      ]
     },
     "execution_count": 7,
     "metadata": {},
     "output_type": "execute_result"
    }
   ],
   "source": [
    "matches_df(mondo_grounder.ground(\"alzheimer disease\"))"
   ]
  },
  {
   "cell_type": "code",
   "execution_count": 8,
   "id": "a305d452",
   "metadata": {},
   "outputs": [
    {
     "data": {
      "text/html": [
       "<div>\n",
       "<style scoped>\n",
       "    .dataframe tbody tr th:only-of-type {\n",
       "        vertical-align: middle;\n",
       "    }\n",
       "\n",
       "    .dataframe tbody tr th {\n",
       "        vertical-align: top;\n",
       "    }\n",
       "\n",
       "    .dataframe thead th {\n",
       "        text-align: right;\n",
       "    }\n",
       "</style>\n",
       "<table border=\"1\" class=\"dataframe\">\n",
       "  <thead>\n",
       "    <tr style=\"text-align: right;\">\n",
       "      <th></th>\n",
       "      <th>norm_text</th>\n",
       "      <th>text</th>\n",
       "      <th>db</th>\n",
       "      <th>id</th>\n",
       "      <th>entry_name</th>\n",
       "      <th>status</th>\n",
       "      <th>source</th>\n",
       "      <th>score</th>\n",
       "    </tr>\n",
       "  </thead>\n",
       "  <tbody>\n",
       "    <tr>\n",
       "      <th>0</th>\n",
       "      <td>alzheimer's disease</td>\n",
       "      <td>Alzheimer's disease</td>\n",
       "      <td>MONDO</td>\n",
       "      <td>0004975</td>\n",
       "      <td>Alzheimer disease</td>\n",
       "      <td>synonym</td>\n",
       "      <td>MONDO</td>\n",
       "      <td>0.511647</td>\n",
       "    </tr>\n",
       "  </tbody>\n",
       "</table>\n",
       "</div>"
      ],
      "text/plain": [
       "             norm_text                 text     db       id  \\\n",
       "0  alzheimer's disease  Alzheimer's disease  MONDO  0004975   \n",
       "\n",
       "          entry_name   status source     score  \n",
       "0  Alzheimer disease  synonym  MONDO  0.511647  "
      ]
     },
     "execution_count": 8,
     "metadata": {},
     "output_type": "execute_result"
    }
   ],
   "source": [
    "matches_df(mondo_grounder.ground(\"alzheimer's disease\"))"
   ]
  },
  {
   "cell_type": "markdown",
   "id": "06818bc6",
   "metadata": {},
   "source": [
    "# Custom Terms from an Ontology via `obonet`\n",
    "\n",
    "Many ontologies are available in the text-based OBO format which can be parsed with tools like [`obonet`](https://github.com/dhimmel/obonet) into a [`networkx`](https://networkx.org/) graph object. In this example, we get the OBO document for the [Uber Anatomy Ontology (UBERON)](https://obofoundry.org/ontology/uberon) then generate Gilda terms for its entries based on their names and synonyms by traversing the nodes corresponding to UBERON terms in the graph object."
   ]
  },
  {
   "cell_type": "code",
   "execution_count": 9,
   "id": "55643c6b",
   "metadata": {},
   "outputs": [],
   "source": [
    "import obonet\n",
    "\n",
    "def terms_from_obo_url(url, prefix):\n",
    "    g = obonet.read_obo(url)\n",
    "    custom_obo_terms = []\n",
    "    for node, data in tqdm(g.nodes(data=True), unit_scale=True, unit=\"node\"):\n",
    "        # Skip entries imported from other ontologies\n",
    "        if not node.startswith(f\"{prefix}:\"):\n",
    "            continue\n",
    "\n",
    "        identifier = node.removeprefix(f\"{prefix}:\")\n",
    "\n",
    "        name = data[\"name\"]\n",
    "        if not name:\n",
    "            continue\n",
    "        custom_obo_terms.append(gilda.term.Term(\n",
    "            norm_text=normalize(name),\n",
    "            text=name,\n",
    "            db=prefix,\n",
    "            id=identifier,\n",
    "            entry_name=name,\n",
    "            status=\"name\",\n",
    "            source=prefix,\n",
    "        ))\n",
    "\n",
    "        # Add terms for all synonyms\n",
    "        for synonym_raw in data.get(\"synonym\", []):\n",
    "            try:\n",
    "                # Try to parse out of the quoted OBO Field\n",
    "                synonym = synonym_raw.split('\"')[1].strip()\n",
    "            except IndexError:\n",
    "                continue  # the synonym was malformed\n",
    "            if not synonym:\n",
    "                continue\n",
    "            custom_obo_terms.append(gilda.term.Term(\n",
    "                norm_text=normalize(synonym),\n",
    "                text=synonym,\n",
    "                db=prefix,\n",
    "                id=identifier,\n",
    "                entry_name=name,\n",
    "                status=\"synonym\",\n",
    "                source=prefix,\n",
    "            ))\n",
    "    return custom_obo_terms"
   ]
  },
  {
   "cell_type": "code",
   "execution_count": 10,
   "id": "9b9042a5",
   "metadata": {},
   "outputs": [
    {
     "data": {
      "application/vnd.jupyter.widget-view+json": {
       "model_id": "0ac8ef0aa84c4cc780434deafb3a698a",
       "version_major": 2,
       "version_minor": 0
      },
      "text/plain": [
       "  0%|          | 0.00/14.5k [00:00<?, ?node/s]"
      ]
     },
     "metadata": {},
     "output_type": "display_data"
    },
    {
     "name": "stdout",
     "output_type": "stream",
     "text": [
      "Lookups: 49,677\n",
      "Terms: 53,613\n",
      "Term Namespaces: {'UBERON'}\n",
      "Term Statuses: {'name': 14224, 'synonym': 39389}\n",
      "Adeft Disambiguators: 202\n",
      "Gilda Disambiguators: 1,008\n",
      "\n"
     ]
    }
   ],
   "source": [
    "uberon_prefix = \"UBERON\"\n",
    "uberon_url = \"http://purl.obolibrary.org/obo/uberon/basic.obo\"\n",
    "\n",
    "uberon_terms = terms_from_obo_url(uberon_url, uberon_prefix)\n",
    "\n",
    "uberon_grounder = gilda.make_grounder(uberon_terms)\n",
    "uberon_grounder.print_summary()"
   ]
  },
  {
   "cell_type": "code",
   "execution_count": 11,
   "id": "780bfd5a",
   "metadata": {},
   "outputs": [
    {
     "data": {
      "text/html": [
       "<div>\n",
       "<style scoped>\n",
       "    .dataframe tbody tr th:only-of-type {\n",
       "        vertical-align: middle;\n",
       "    }\n",
       "\n",
       "    .dataframe tbody tr th {\n",
       "        vertical-align: top;\n",
       "    }\n",
       "\n",
       "    .dataframe thead th {\n",
       "        text-align: right;\n",
       "    }\n",
       "</style>\n",
       "<table border=\"1\" class=\"dataframe\">\n",
       "  <thead>\n",
       "    <tr style=\"text-align: right;\">\n",
       "      <th></th>\n",
       "      <th>norm_text</th>\n",
       "      <th>text</th>\n",
       "      <th>db</th>\n",
       "      <th>id</th>\n",
       "      <th>entry_name</th>\n",
       "      <th>status</th>\n",
       "      <th>source</th>\n",
       "      <th>score</th>\n",
       "    </tr>\n",
       "  </thead>\n",
       "  <tbody>\n",
       "    <tr>\n",
       "      <th>0</th>\n",
       "      <td>neck</td>\n",
       "      <td>neck</td>\n",
       "      <td>UBERON</td>\n",
       "      <td>0000974</td>\n",
       "      <td>neck</td>\n",
       "      <td>name</td>\n",
       "      <td>UBERON</td>\n",
       "      <td>0.777778</td>\n",
       "    </tr>\n",
       "  </tbody>\n",
       "</table>\n",
       "</div>"
      ],
      "text/plain": [
       "  norm_text  text      db       id entry_name status  source     score\n",
       "0      neck  neck  UBERON  0000974       neck   name  UBERON  0.777778"
      ]
     },
     "execution_count": 11,
     "metadata": {},
     "output_type": "execute_result"
    }
   ],
   "source": [
    "matches_df(uberon_grounder.ground(\"neck\"))"
   ]
  },
  {
   "cell_type": "markdown",
   "id": "0080b16e",
   "metadata": {},
   "source": [
    "## Example with NCBITaxon\n",
    "\n",
    "While NCBITaxon itself isn't curated as an ontology, the OBO Foundry community maintains an export into the OWL, OBO, and OBO Graph JSON formats. "
   ]
  },
  {
   "cell_type": "code",
   "execution_count": 12,
   "id": "b9f290e5",
   "metadata": {},
   "outputs": [
    {
     "data": {
      "application/vnd.jupyter.widget-view+json": {
       "model_id": "7210558c1cd64a6a9dfc80b40a0c68fd",
       "version_major": 2,
       "version_minor": 0
      },
      "text/plain": [
       "  0%|          | 0.00/2.40M [00:00<?, ?node/s]"
      ]
     },
     "metadata": {},
     "output_type": "display_data"
    },
    {
     "name": "stdout",
     "output_type": "stream",
     "text": [
      "Lookups: 2,709,497\n",
      "Terms: 2,721,934\n",
      "Term Namespaces: {'NCBITaxon'}\n",
      "Term Statuses: {'name': 2401826, 'synonym': 320108}\n",
      "Adeft Disambiguators: 202\n",
      "Gilda Disambiguators: 1,008\n",
      "\n"
     ]
    }
   ],
   "source": [
    "ncbitaxon_url = \"http://purl.obolibrary.org/obo/ncbitaxon.obo\"\n",
    "ncbitaxon_prefix = \"NCBITaxon\"\n",
    "\n",
    "ncbitaxon_terms = terms_from_obo_url(ncbitaxon_url, ncbitaxon_prefix)\n",
    "\n",
    "ncbitaxon_grounder = gilda.make_grounder(ncbitaxon_terms)\n",
    "ncbitaxon_grounder.print_summary()"
   ]
  },
  {
   "cell_type": "code",
   "execution_count": 19,
   "id": "39f47679",
   "metadata": {},
   "outputs": [
    {
     "data": {
      "text/html": [
       "<div>\n",
       "<style scoped>\n",
       "    .dataframe tbody tr th:only-of-type {\n",
       "        vertical-align: middle;\n",
       "    }\n",
       "\n",
       "    .dataframe tbody tr th {\n",
       "        vertical-align: top;\n",
       "    }\n",
       "\n",
       "    .dataframe thead th {\n",
       "        text-align: right;\n",
       "    }\n",
       "</style>\n",
       "<table border=\"1\" class=\"dataframe\">\n",
       "  <thead>\n",
       "    <tr style=\"text-align: right;\">\n",
       "      <th></th>\n",
       "    </tr>\n",
       "  </thead>\n",
       "  <tbody>\n",
       "  </tbody>\n",
       "</table>\n",
       "</div>"
      ],
      "text/plain": [
       "Empty DataFrame\n",
       "Columns: []\n",
       "Index: []"
      ]
     },
     "execution_count": 19,
     "metadata": {},
     "output_type": "execute_result"
    }
   ],
   "source": [
    "matches_df(ncbitaxon_grounder.ground(\"e coli\"))"
   ]
  },
  {
   "cell_type": "code",
   "execution_count": 18,
   "id": "e7a0d556",
   "metadata": {},
   "outputs": [
    {
     "data": {
      "text/html": [
       "<div>\n",
       "<style scoped>\n",
       "    .dataframe tbody tr th:only-of-type {\n",
       "        vertical-align: middle;\n",
       "    }\n",
       "\n",
       "    .dataframe tbody tr th {\n",
       "        vertical-align: top;\n",
       "    }\n",
       "\n",
       "    .dataframe thead th {\n",
       "        text-align: right;\n",
       "    }\n",
       "</style>\n",
       "<table border=\"1\" class=\"dataframe\">\n",
       "  <thead>\n",
       "    <tr style=\"text-align: right;\">\n",
       "      <th></th>\n",
       "      <th>norm_text</th>\n",
       "      <th>text</th>\n",
       "      <th>db</th>\n",
       "      <th>id</th>\n",
       "      <th>entry_name</th>\n",
       "      <th>status</th>\n",
       "      <th>source</th>\n",
       "      <th>score</th>\n",
       "    </tr>\n",
       "  </thead>\n",
       "  <tbody>\n",
       "    <tr>\n",
       "      <th>0</th>\n",
       "      <td>e. coli</td>\n",
       "      <td>E. coli</td>\n",
       "      <td>NCBITaxon</td>\n",
       "      <td>562</td>\n",
       "      <td>Escherichia coli</td>\n",
       "      <td>synonym</td>\n",
       "      <td>NCBITaxon</td>\n",
       "      <td>0.511647</td>\n",
       "    </tr>\n",
       "  </tbody>\n",
       "</table>\n",
       "</div>"
      ],
      "text/plain": [
       "  norm_text     text         db   id        entry_name   status     source  \\\n",
       "0   e. coli  E. coli  NCBITaxon  562  Escherichia coli  synonym  NCBITaxon   \n",
       "\n",
       "      score  \n",
       "0  0.511647  "
      ]
     },
     "execution_count": 18,
     "metadata": {},
     "output_type": "execute_result"
    }
   ],
   "source": [
    "matches_df(ncbitaxon_grounder.ground(\"e. coli\"))"
   ]
  },
  {
   "cell_type": "markdown",
   "id": "11a65c70",
   "metadata": {},
   "source": [
    "# Custom Terms from PyOBO\n",
    "\n",
    "Many biomedical resources curate terms with labels and synonyms that would be useful for generating a custom grounder with Gilda, but they don't live in ontologies in the OWL, OBO, or OBO Graph JSON formats. [PyOBO](https://github.com/pyobo/pyobo) provides unified way to access and process many resources in an ontology-like way. In this example, several pathway databases are loaded for grounding including Reactome, WikiPathways, PathBank, and the Pathway Ontology (which itself actually is an ontology)."
   ]
  },
  {
   "cell_type": "code",
   "execution_count": 14,
   "id": "f578d825",
   "metadata": {},
   "outputs": [
    {
     "name": "stdout",
     "output_type": "stream",
     "text": [
      "0.7.0\n"
     ]
    }
   ],
   "source": [
    "import pyobo\n",
    "import pyobo.api.utils\n",
    "\n",
    "print(pyobo.get_version())"
   ]
  },
  {
   "cell_type": "code",
   "execution_count": 15,
   "id": "90dbb3e3",
   "metadata": {},
   "outputs": [
    {
     "name": "stderr",
     "output_type": "stream",
     "text": [
      "WARNING: [2022-04-26 17:52:10] bioversions.sources.ols - [ypo] Missing information in OLS\n"
     ]
    },
    {
     "name": "stdout",
     "output_type": "stream",
     "text": [
      "reactome v80, 21,423 names, 0 synonyms\n",
      "wikipathways v20220410, 1,718 names, 0 synonyms\n",
      "pw v2019-10-23, 2,600 names, 1,957 synonyms\n",
      "pathbank v2.0, 110,242 names, 0 synonyms\n"
     ]
    }
   ],
   "source": [
    "custom_pathway_terms = []\n",
    "\n",
    "prefixes = [\n",
    "    \"reactome\", \n",
    "    \"wikipathways\", \n",
    "    \"pw\",  # Pathway ontology\n",
    "    \"pathbank\",\n",
    "]\n",
    "\n",
    "# Repeat the steps for several pathway resources\n",
    "for prefix in prefixes:\n",
    "    version = pyobo.api.utils.get_version(prefix)\n",
    "    names = pyobo.get_id_name_mapping(prefix)\n",
    "    synonyms = pyobo.get_id_synonyms_mapping(prefix)\n",
    "    print(\n",
    "        f\"{prefix} v{version}, {len(names):,} names, {sum(len(v) for v in synonyms.values()):,} synonyms\"\n",
    "    )\n",
    "\n",
    "    for identifier, name in names.items():\n",
    "        # Create a Gilda term for the standard label\n",
    "        custom_pathway_terms.append(gilda.Term(\n",
    "            norm_text=normalize(name),\n",
    "            text=name,\n",
    "            db=prefix,\n",
    "            id=identifier,\n",
    "            entry_name=name,\n",
    "            status=\"name\",\n",
    "            source=prefix,\n",
    "        ))\n",
    "        \n",
    "        # Create a Gilda term for each synonym\n",
    "        for synonym in synonyms.get(identifier, []):\n",
    "            custom_pathway_terms.append(gilda.Term(\n",
    "                norm_text=normalize(synonym),\n",
    "                text=synonym,\n",
    "                db=prefix,\n",
    "                id=identifier,\n",
    "                entry_name=name,\n",
    "                status=\"synonym\",\n",
    "                source=prefix,\n",
    "            ))"
   ]
  },
  {
   "cell_type": "code",
   "execution_count": 16,
   "id": "4d43fddf",
   "metadata": {},
   "outputs": [
    {
     "name": "stdout",
     "output_type": "stream",
     "text": [
      "Lookups: 76,499\n",
      "Terms: 137,940\n",
      "Term Namespaces: {'pw', 'reactome', 'wikipathways', 'pathbank'}\n",
      "Term Statuses: {'name': 135983, 'synonym': 1957}\n",
      "Adeft Disambiguators: 202\n",
      "Gilda Disambiguators: 1,008\n",
      "\n"
     ]
    }
   ],
   "source": [
    "# Generate a grounder using a list of Gilda terms\n",
    "custom_pathway_grounder = gilda.make_grounder(custom_pathway_terms)\n",
    "custom_pathway_grounder.print_summary()"
   ]
  },
  {
   "cell_type": "code",
   "execution_count": 17,
   "id": "4ef8f30a",
   "metadata": {},
   "outputs": [
    {
     "data": {
      "text/html": [
       "<div>\n",
       "<style scoped>\n",
       "    .dataframe tbody tr th:only-of-type {\n",
       "        vertical-align: middle;\n",
       "    }\n",
       "\n",
       "    .dataframe tbody tr th {\n",
       "        vertical-align: top;\n",
       "    }\n",
       "\n",
       "    .dataframe thead th {\n",
       "        text-align: right;\n",
       "    }\n",
       "</style>\n",
       "<table border=\"1\" class=\"dataframe\">\n",
       "  <thead>\n",
       "    <tr style=\"text-align: right;\">\n",
       "      <th></th>\n",
       "      <th>norm_text</th>\n",
       "      <th>text</th>\n",
       "      <th>db</th>\n",
       "      <th>id</th>\n",
       "      <th>entry_name</th>\n",
       "      <th>status</th>\n",
       "      <th>source</th>\n",
       "      <th>score</th>\n",
       "    </tr>\n",
       "  </thead>\n",
       "  <tbody>\n",
       "    <tr>\n",
       "      <th>0</th>\n",
       "      <td>apoptosis</td>\n",
       "      <td>Apoptosis</td>\n",
       "      <td>reactome</td>\n",
       "      <td>R-BTA-109581</td>\n",
       "      <td>Apoptosis</td>\n",
       "      <td>name</td>\n",
       "      <td>reactome</td>\n",
       "      <td>0.762317</td>\n",
       "    </tr>\n",
       "    <tr>\n",
       "      <th>1</th>\n",
       "      <td>apoptosis</td>\n",
       "      <td>Apoptosis</td>\n",
       "      <td>reactome</td>\n",
       "      <td>R-CEL-109581</td>\n",
       "      <td>Apoptosis</td>\n",
       "      <td>name</td>\n",
       "      <td>reactome</td>\n",
       "      <td>0.762317</td>\n",
       "    </tr>\n",
       "    <tr>\n",
       "      <th>2</th>\n",
       "      <td>apoptosis</td>\n",
       "      <td>Apoptosis</td>\n",
       "      <td>reactome</td>\n",
       "      <td>R-CFA-109581</td>\n",
       "      <td>Apoptosis</td>\n",
       "      <td>name</td>\n",
       "      <td>reactome</td>\n",
       "      <td>0.762317</td>\n",
       "    </tr>\n",
       "    <tr>\n",
       "      <th>3</th>\n",
       "      <td>apoptosis</td>\n",
       "      <td>Apoptosis</td>\n",
       "      <td>reactome</td>\n",
       "      <td>R-DDI-109581</td>\n",
       "      <td>Apoptosis</td>\n",
       "      <td>name</td>\n",
       "      <td>reactome</td>\n",
       "      <td>0.762317</td>\n",
       "    </tr>\n",
       "    <tr>\n",
       "      <th>4</th>\n",
       "      <td>apoptosis</td>\n",
       "      <td>Apoptosis</td>\n",
       "      <td>reactome</td>\n",
       "      <td>R-DME-109581</td>\n",
       "      <td>Apoptosis</td>\n",
       "      <td>name</td>\n",
       "      <td>reactome</td>\n",
       "      <td>0.762317</td>\n",
       "    </tr>\n",
       "    <tr>\n",
       "      <th>5</th>\n",
       "      <td>apoptosis</td>\n",
       "      <td>Apoptosis</td>\n",
       "      <td>reactome</td>\n",
       "      <td>R-DRE-109581</td>\n",
       "      <td>Apoptosis</td>\n",
       "      <td>name</td>\n",
       "      <td>reactome</td>\n",
       "      <td>0.762317</td>\n",
       "    </tr>\n",
       "    <tr>\n",
       "      <th>6</th>\n",
       "      <td>apoptosis</td>\n",
       "      <td>Apoptosis</td>\n",
       "      <td>reactome</td>\n",
       "      <td>R-GGA-109581</td>\n",
       "      <td>Apoptosis</td>\n",
       "      <td>name</td>\n",
       "      <td>reactome</td>\n",
       "      <td>0.762317</td>\n",
       "    </tr>\n",
       "    <tr>\n",
       "      <th>7</th>\n",
       "      <td>apoptosis</td>\n",
       "      <td>Apoptosis</td>\n",
       "      <td>reactome</td>\n",
       "      <td>R-HSA-109581</td>\n",
       "      <td>Apoptosis</td>\n",
       "      <td>name</td>\n",
       "      <td>reactome</td>\n",
       "      <td>0.762317</td>\n",
       "    </tr>\n",
       "    <tr>\n",
       "      <th>8</th>\n",
       "      <td>apoptosis</td>\n",
       "      <td>Apoptosis</td>\n",
       "      <td>reactome</td>\n",
       "      <td>R-MMU-109581</td>\n",
       "      <td>Apoptosis</td>\n",
       "      <td>name</td>\n",
       "      <td>reactome</td>\n",
       "      <td>0.762317</td>\n",
       "    </tr>\n",
       "    <tr>\n",
       "      <th>9</th>\n",
       "      <td>apoptosis</td>\n",
       "      <td>Apoptosis</td>\n",
       "      <td>reactome</td>\n",
       "      <td>R-PFA-109581</td>\n",
       "      <td>Apoptosis</td>\n",
       "      <td>name</td>\n",
       "      <td>reactome</td>\n",
       "      <td>0.762317</td>\n",
       "    </tr>\n",
       "    <tr>\n",
       "      <th>10</th>\n",
       "      <td>apoptosis</td>\n",
       "      <td>Apoptosis</td>\n",
       "      <td>reactome</td>\n",
       "      <td>R-RNO-109581</td>\n",
       "      <td>Apoptosis</td>\n",
       "      <td>name</td>\n",
       "      <td>reactome</td>\n",
       "      <td>0.762317</td>\n",
       "    </tr>\n",
       "    <tr>\n",
       "      <th>11</th>\n",
       "      <td>apoptosis</td>\n",
       "      <td>Apoptosis</td>\n",
       "      <td>reactome</td>\n",
       "      <td>R-SCE-109581</td>\n",
       "      <td>Apoptosis</td>\n",
       "      <td>name</td>\n",
       "      <td>reactome</td>\n",
       "      <td>0.762317</td>\n",
       "    </tr>\n",
       "    <tr>\n",
       "      <th>12</th>\n",
       "      <td>apoptosis</td>\n",
       "      <td>Apoptosis</td>\n",
       "      <td>reactome</td>\n",
       "      <td>R-SPO-109581</td>\n",
       "      <td>Apoptosis</td>\n",
       "      <td>name</td>\n",
       "      <td>reactome</td>\n",
       "      <td>0.762317</td>\n",
       "    </tr>\n",
       "    <tr>\n",
       "      <th>13</th>\n",
       "      <td>apoptosis</td>\n",
       "      <td>Apoptosis</td>\n",
       "      <td>reactome</td>\n",
       "      <td>R-SSC-109581</td>\n",
       "      <td>Apoptosis</td>\n",
       "      <td>name</td>\n",
       "      <td>reactome</td>\n",
       "      <td>0.762317</td>\n",
       "    </tr>\n",
       "    <tr>\n",
       "      <th>14</th>\n",
       "      <td>apoptosis</td>\n",
       "      <td>Apoptosis</td>\n",
       "      <td>reactome</td>\n",
       "      <td>R-XTR-109581</td>\n",
       "      <td>Apoptosis</td>\n",
       "      <td>name</td>\n",
       "      <td>reactome</td>\n",
       "      <td>0.762317</td>\n",
       "    </tr>\n",
       "    <tr>\n",
       "      <th>15</th>\n",
       "      <td>apoptosis</td>\n",
       "      <td>Apoptosis</td>\n",
       "      <td>wikipathways</td>\n",
       "      <td>WP1018</td>\n",
       "      <td>Apoptosis</td>\n",
       "      <td>name</td>\n",
       "      <td>wikipathways</td>\n",
       "      <td>0.762317</td>\n",
       "    </tr>\n",
       "    <tr>\n",
       "      <th>16</th>\n",
       "      <td>apoptosis</td>\n",
       "      <td>Apoptosis</td>\n",
       "      <td>wikipathways</td>\n",
       "      <td>WP1254</td>\n",
       "      <td>Apoptosis</td>\n",
       "      <td>name</td>\n",
       "      <td>wikipathways</td>\n",
       "      <td>0.762317</td>\n",
       "    </tr>\n",
       "    <tr>\n",
       "      <th>17</th>\n",
       "      <td>apoptosis</td>\n",
       "      <td>Apoptosis</td>\n",
       "      <td>wikipathways</td>\n",
       "      <td>WP1290</td>\n",
       "      <td>Apoptosis</td>\n",
       "      <td>name</td>\n",
       "      <td>wikipathways</td>\n",
       "      <td>0.762317</td>\n",
       "    </tr>\n",
       "    <tr>\n",
       "      <th>18</th>\n",
       "      <td>apoptosis</td>\n",
       "      <td>Apoptosis</td>\n",
       "      <td>wikipathways</td>\n",
       "      <td>WP1351</td>\n",
       "      <td>Apoptosis</td>\n",
       "      <td>name</td>\n",
       "      <td>wikipathways</td>\n",
       "      <td>0.762317</td>\n",
       "    </tr>\n",
       "    <tr>\n",
       "      <th>19</th>\n",
       "      <td>apoptosis</td>\n",
       "      <td>Apoptosis</td>\n",
       "      <td>wikipathways</td>\n",
       "      <td>WP254</td>\n",
       "      <td>Apoptosis</td>\n",
       "      <td>name</td>\n",
       "      <td>wikipathways</td>\n",
       "      <td>0.762317</td>\n",
       "    </tr>\n",
       "    <tr>\n",
       "      <th>20</th>\n",
       "      <td>apoptosis</td>\n",
       "      <td>Apoptosis</td>\n",
       "      <td>wikipathways</td>\n",
       "      <td>WP787</td>\n",
       "      <td>Apoptosis</td>\n",
       "      <td>name</td>\n",
       "      <td>wikipathways</td>\n",
       "      <td>0.762317</td>\n",
       "    </tr>\n",
       "  </tbody>\n",
       "</table>\n",
       "</div>"
      ],
      "text/plain": [
       "    norm_text       text            db            id entry_name status  \\\n",
       "0   apoptosis  Apoptosis      reactome  R-BTA-109581  Apoptosis   name   \n",
       "1   apoptosis  Apoptosis      reactome  R-CEL-109581  Apoptosis   name   \n",
       "2   apoptosis  Apoptosis      reactome  R-CFA-109581  Apoptosis   name   \n",
       "3   apoptosis  Apoptosis      reactome  R-DDI-109581  Apoptosis   name   \n",
       "4   apoptosis  Apoptosis      reactome  R-DME-109581  Apoptosis   name   \n",
       "5   apoptosis  Apoptosis      reactome  R-DRE-109581  Apoptosis   name   \n",
       "6   apoptosis  Apoptosis      reactome  R-GGA-109581  Apoptosis   name   \n",
       "7   apoptosis  Apoptosis      reactome  R-HSA-109581  Apoptosis   name   \n",
       "8   apoptosis  Apoptosis      reactome  R-MMU-109581  Apoptosis   name   \n",
       "9   apoptosis  Apoptosis      reactome  R-PFA-109581  Apoptosis   name   \n",
       "10  apoptosis  Apoptosis      reactome  R-RNO-109581  Apoptosis   name   \n",
       "11  apoptosis  Apoptosis      reactome  R-SCE-109581  Apoptosis   name   \n",
       "12  apoptosis  Apoptosis      reactome  R-SPO-109581  Apoptosis   name   \n",
       "13  apoptosis  Apoptosis      reactome  R-SSC-109581  Apoptosis   name   \n",
       "14  apoptosis  Apoptosis      reactome  R-XTR-109581  Apoptosis   name   \n",
       "15  apoptosis  Apoptosis  wikipathways        WP1018  Apoptosis   name   \n",
       "16  apoptosis  Apoptosis  wikipathways        WP1254  Apoptosis   name   \n",
       "17  apoptosis  Apoptosis  wikipathways        WP1290  Apoptosis   name   \n",
       "18  apoptosis  Apoptosis  wikipathways        WP1351  Apoptosis   name   \n",
       "19  apoptosis  Apoptosis  wikipathways         WP254  Apoptosis   name   \n",
       "20  apoptosis  Apoptosis  wikipathways         WP787  Apoptosis   name   \n",
       "\n",
       "          source     score  \n",
       "0       reactome  0.762317  \n",
       "1       reactome  0.762317  \n",
       "2       reactome  0.762317  \n",
       "3       reactome  0.762317  \n",
       "4       reactome  0.762317  \n",
       "5       reactome  0.762317  \n",
       "6       reactome  0.762317  \n",
       "7       reactome  0.762317  \n",
       "8       reactome  0.762317  \n",
       "9       reactome  0.762317  \n",
       "10      reactome  0.762317  \n",
       "11      reactome  0.762317  \n",
       "12      reactome  0.762317  \n",
       "13      reactome  0.762317  \n",
       "14      reactome  0.762317  \n",
       "15  wikipathways  0.762317  \n",
       "16  wikipathways  0.762317  \n",
       "17  wikipathways  0.762317  \n",
       "18  wikipathways  0.762317  \n",
       "19  wikipathways  0.762317  \n",
       "20  wikipathways  0.762317  "
      ]
     },
     "execution_count": 17,
     "metadata": {},
     "output_type": "execute_result"
    }
   ],
   "source": [
    "matches_df(custom_pathway_grounder.ground(\"apoptosis\"))"
   ]
  }
 ],
 "metadata": {
  "kernelspec": {
   "display_name": "Python 3 (ipykernel)",
   "language": "python",
   "name": "python3"
  },
  "language_info": {
   "codemirror_mode": {
    "name": "ipython",
    "version": 3
   },
   "file_extension": ".py",
   "mimetype": "text/x-python",
   "name": "python",
   "nbconvert_exporter": "python",
   "pygments_lexer": "ipython3",
   "version": "3.10.2"
  }
 },
 "nbformat": 4,
 "nbformat_minor": 5
}
