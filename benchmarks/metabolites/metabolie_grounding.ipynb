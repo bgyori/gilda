{
 "cells": [
  {
   "cell_type": "markdown",
   "metadata": {},
   "source": [
    "# Grounding a list of metabolites"
   ]
  },
  {
   "cell_type": "code",
   "execution_count": 1,
   "metadata": {},
   "outputs": [
    {
     "name": "stderr",
     "output_type": "stream",
     "text": [
      "INFO: [2020-12-17 09:52:51] /Users/ben/Dropbox/postdoc/darpa/src/deft/adeft/recognize.py - OneShotRecognizer not available. Extension module for AlignmentBasedScorer is missing\n"
     ]
    }
   ],
   "source": [
    "import re\n",
    "from gilda import ground"
   ]
  },
  {
   "cell_type": "markdown",
   "metadata": {},
   "source": [
    "We define some basic functions to load the strings and run Gilda on them. We also define a function to print grounding stats and print out any ungrounded strings."
   ]
  },
  {
   "cell_type": "code",
   "execution_count": 2,
   "metadata": {},
   "outputs": [],
   "source": [
    "def load_texts():\n",
    "    with open('plasmax_name_to_kegg.txt') as fh:\n",
    "        texts = [l.strip().split(',')[0] for l in fh.readlines()][1:]\n",
    "    return sorted(set(texts))\n",
    "\n",
    "def ground_texts(texts, grounding_fun):\n",
    "    return {text: grounding_fun(text) for text in texts}\n",
    "\n",
    "def print_grounding_stats(groundings):\n",
    "    grounded = [t for t, g in groundings.items() if g]\n",
    "    ungrounded = [t for t, g in groundings.items() if not g]\n",
    "    num_texts = len(groundings)\n",
    "    print('Grounded: %d/%d (%.2f%%)' % (len(grounded), num_texts, 100*len(grounded)/num_texts))\n",
    "    print(ungrounded)"
   ]
  },
  {
   "cell_type": "markdown",
   "metadata": {},
   "source": [
    "First we try running Gilda without any modifications and see what happens"
   ]
  },
  {
   "cell_type": "code",
   "execution_count": 3,
   "metadata": {
    "scrolled": true
   },
   "outputs": [
    {
     "name": "stdout",
     "output_type": "stream",
     "text": [
      "Grounded: 163/230 (70.87%)\n",
      "['2-aminomuconicacid', '2-hg', '2/3-phosphoglycerate', '4-pyridoxicacid', '5-phosphoribosyl-1-pyrophosphate', '6-phosphogluconate', 'aconitate', 'akg', 'argininosuccinate', 'ascorbicacid', 'carbamoyl_phosphate', 'carbamoylaspartate', 'carbamoylphosphate', 'cmp-acetylneuraminicacid', 'cysteicacid', 'dihydroacetonephosphate', 'dihydroxyacetonephosphate', 'fructose-16-bisphosphate', 'fructose1-6-bisphosphate', 'fructose1_6-biphosphate', 'glucosamine-6-phosphate', 'glucosamine6-phosphate', 'glutathioneoxidized', 'hydroxyphenyllacticacid', 'indole-3-lacticacid', 'isethionicacid', 'kiv', 'kmv+kic', 'kynurenic_acid', 'kynurenicacid', 'lactoylgsh', 'linoleicacid', 'mannitol/sorbitol', 'methioninesulfoxide', 'methyltryptophan', 'mevalonicacid', 'mevalonicacid5-pyrophosphate', 'myristic_acid', 'myristicacid', 'n-acetylglutamate', 'n-acetylneuramicacid', 'n-methylnicotinamide(nmnm)', 'nicotinamide/picolinamide', 'nicotinamidemononucleotide(nmn)', 'oleic_acid', 'oleicacid', 'oleoamide', 'oroticacid', 'palmitic_acid', 'palmiticacid', 'palmitoleicacid', 'palmitoylcarnitinec16', 'pentose5-phosphates', 'phenolsulphate', 'pipecolicacid', 'pyridoxide', 'pyroglutamicacid', 'quinolinicacid', 'ribitol/arabitol', 'sedoheptulose7-phosphate', 'seduheptulose7-phosphate', 'staericacid', 'stearicacid', 'stereamide', 'succinicglutathione', 'succinylglutathione', 'uricacid']\n"
     ]
    }
   ],
   "source": [
    "texts = load_texts()\n",
    "results = ground_texts(texts, ground)\n",
    "print_grounding_stats(results)"
   ]
  },
  {
   "cell_type": "markdown",
   "metadata": {},
   "source": [
    "It looks like 71% was grounded. Here is one example, each result is a list of ScoredMatch objects that each contain a Term and some metadata. The grounding is included in the Term. Matches are sorted by decreasing score with the highest scoring match on top."
   ]
  },
  {
   "cell_type": "code",
   "execution_count": 4,
   "metadata": {},
   "outputs": [
    {
     "name": "stdout",
     "output_type": "stream",
     "text": [
      "[ScoredMatch(Term(lactate,lactate,CHEBI,CHEBI:24996,lactate,assertion,famplex,None),1.0,Match(query=lactate,ref=lactate,exact=True,space_mismatch=False,dash_mismatches={},cap_combos=[]))]\n",
      "CHEBI CHEBI:24996\n"
     ]
    }
   ],
   "source": [
    "print(results['lactate'])\n",
    "print(results['lactate'][0].term.db, results['lactate'][0].term.id)"
   ]
  },
  {
   "cell_type": "markdown",
   "metadata": {},
   "source": [
    "Upon examination, the entries in the ungrounded list have some patterns of issues that can be fixed with some preprocessing in the `preprocess_text` function. We can then define and use `ground_preprocess` which preprocesses each text before grounding it with Gilda."
   ]
  },
  {
   "cell_type": "code",
   "execution_count": 5,
   "metadata": {},
   "outputs": [
    {
     "name": "stdout",
     "output_type": "stream",
     "text": [
      "Grounded: 195/230 (84.78%)\n",
      "['2-hg', '2/3-phosphoglycerate', '5-phosphoribosyl-1-pyrophosphate', '6-phosphogluconate', 'aconitate', 'akg', 'argininosuccinate', 'carbamoylaspartate', 'carbamoylphosphate', 'dihydroacetonephosphate', 'dihydroxyacetonephosphate', 'fructose-16-bisphosphate', 'fructose1-6-bisphosphate', 'fructose1_6-biphosphate', 'glucosamine-6-phosphate', 'glucosamine6-phosphate', 'glutathioneoxidized', 'hydroxyphenyllacticacid', 'kiv', 'kmv+kic', 'lactoylgsh', 'methioninesulfoxide', 'methyltryptophan', 'mevalonicacid5-pyrophosphate', 'n-acetylglutamate', 'n-acetylneuramicacid', 'oleoamide', 'palmitoylcarnitinec16', 'pentose5-phosphates', 'phenolsulphate', 'pyridoxide', 'sedoheptulose7-phosphate', 'seduheptulose7-phosphate', 'succinicglutathione', 'succinylglutathione']\n"
     ]
    }
   ],
   "source": [
    "typos = {\n",
    "    'stereamide': 'stearamide',\n",
    "    'staericacid': 'stearicacid',\n",
    "}\n",
    "\n",
    "def preprocess_text(text):\n",
    "    if text in typos:\n",
    "        text = typos[text]\n",
    "    # Example: nicotinamidemononucleotide(nmn)\n",
    "    text = re.sub('(\\([a-zA-Z]+\\))$', '', text)\n",
    "    # Example: palmitic_acid\n",
    "    text = text.replace('_', ' ')\n",
    "    # Example: pipecolicacid\n",
    "    suffixes = ['acid', 'mononucleotide']\n",
    "    for suffix in suffixes:\n",
    "        text = re.sub('([^ ])(%s)$' % suffix, '\\\\1 %s' % suffix, text)\n",
    "    # Example: nicotinamide/picolinamide\n",
    "    if '/' in text:\n",
    "        text = text.split('/')[0]\n",
    "    return text\n",
    "        \n",
    "def ground_preprocess(text):\n",
    "    text = preprocess_text(text)\n",
    "    return ground(text)\n",
    "\n",
    "results = ground_texts(texts, ground_preprocess)\n",
    "print_grounding_stats(results)"
   ]
  },
  {
   "cell_type": "markdown",
   "metadata": {},
   "source": [
    "Gilda doesn't have the right synonyms to find groundings for these remaining ungrounded texts."
   ]
  },
  {
   "cell_type": "markdown",
   "metadata": {},
   "source": [
    "### Standardizing the results"
   ]
  },
  {
   "cell_type": "markdown",
   "metadata": {},
   "source": [
    "INDRA offers utilities to map identifiers and standardize names which can be useful in this setting, see https://indra.readthedocs.io/en/latest/modules/ontology/standardize.html."
   ]
  },
  {
   "cell_type": "code",
   "execution_count": 6,
   "metadata": {},
   "outputs": [],
   "source": [
    "from indra.ontology.standardize import standardize_name_db_refs"
   ]
  },
  {
   "cell_type": "code",
   "execution_count": 7,
   "metadata": {},
   "outputs": [
    {
     "name": "stderr",
     "output_type": "stream",
     "text": [
      "INFO: [2020-12-17 09:53:11] indra.ontology.bio.ontology - Loading INDRA bio ontology from cache at /Users/ben/.indra/bio_ontology/1.5/bio_ontology.pkl\n"
     ]
    },
    {
     "data": {
      "text/plain": [
       "('lactate', {'CHEBI': 'CHEBI:24996', 'CAS': '113-21-3', 'PUBCHEM': '91435'})"
      ]
     },
     "execution_count": 7,
     "metadata": {},
     "output_type": "execute_result"
    }
   ],
   "source": [
    "standardize_name_db_refs({results['lactate'][0].term.db: results['lactate'][0].term.id})"
   ]
  },
  {
   "cell_type": "markdown",
   "metadata": {},
   "source": [
    "We see that the standard name for this entry from CHEBI is `lactate` and we were able to get CAS and PUBCHEM mappings for it."
   ]
  },
  {
   "cell_type": "markdown",
   "metadata": {},
   "source": [
    "We can also look at ontological information for the grounded entries via INDRA as follows, with the example of `glutamine`. It looks like `glutamine` has a lot of children in the ChEBI ontology."
   ]
  },
  {
   "cell_type": "code",
   "execution_count": 12,
   "metadata": {},
   "outputs": [
    {
     "name": "stdout",
     "output_type": "stream",
     "text": [
      "N(2)-acetyl-D-glutamine CHEBI:144430\n",
      "N(2)-acylglutamine CHEBI:83985\n",
      "alpha-chrysopine CHEBI:83080\n",
      "poly-L-glutamic acid CHEBI:26173\n",
      "Gln-Cys-Cys CHEBI:144458\n",
      "Ala-Met-Gln-Gln CHEBI:137239\n",
      "alpha-N-peptidyl-L-glutamine CHEBI:16376\n",
      "Cys-Met-Gln CHEBI:144427\n",
      "N-(gamma-L-glutamyl)-2-naphthylamine CHEBI:90444\n",
      "Asn-Met-Gln-Pro CHEBI:138505\n",
      "gamma-glutamylputrescine CHEBI:48006\n",
      "N(5)-phenyl-L-glutamine CHEBI:79289\n",
      "Dnp-Gln CHEBI:72487\n",
      "Glu-Phe-Gln-Gln CHEBI:73488\n",
      "Gln-Trp CHEBI:141431\n",
      "(4-\\{4-[2-(gamma-L-glutamylamino)ethyl]phenoxymethyl\\}furan-2-yl)methanamine CHEBI:88248\n",
      "Tnp-Gln CHEBI:72495\n",
      "N(2)-[(2E)-3-methylhex-2-enoyl]-L-glutamine CHEBI:145321\n",
      "coprine CHEBI:3875\n",
      "N(5)-ethyl-L-glutamine CHEBI:17394\n",
      "N(2)-phenylacetylglutamine CHEBI:8087\n",
      "L-glutamine derivative CHEBI:24317\n",
      "Arg-Asn-Gln-Arg CHEBI:73397\n",
      "ophthalmic acid CHEBI:84058\n",
      "5,6,7,8-tetrahydrofolyl-L-glutamic acid CHEBI:27650\n",
      "Asp-Gln-Arg CHEBI:73447\n",
      "10-formyltetrahydrofolyl glutamate CHEBI:19111\n",
      "gamma-glutamyltyramine CHEBI:84215\n",
      "N(2)-[4-(2,4-dichlorophenoxy)butanoyl]-L-glutamine CHEBI:144862\n",
      "Gln-Gln CHEBI:73846\n",
      "Gln-Val CHEBI:141433\n",
      "N(2)-phenylacetyl-L-glutamine CHEBI:17884\n",
      "mannopine CHEBI:80662\n",
      "Gln-Phe-Trp-Tyr CHEBI:73464\n",
      "glutaminium CHEBI:32679\n",
      "gamma-glutamyl-gamma-aminobutyraldehyde CHEBI:61521\n",
      "(S)-proglumide CHEBI:76268\n",
      "10-formyltetrahydrofolyl-(Glu)n CHEBI:134412\n",
      "Aceglutamide aluminum CHEBI:31161\n",
      "Asp-Gln-Ser CHEBI:73448\n",
      "chrysopine CHEBI:83079\n",
      "tetrahydrofolyl-poly(L-glutamic acid) macromolecule CHEBI:68512\n",
      "Asn-Gln CHEBI:73421\n",
      "Asp-Phe-Asp-Gln CHEBI:73437\n",
      "Ala-Gln-Pro CHEBI:73347\n",
      "peptidyl-L-glutamyl 5-glycerophosphoethanolamine CHEBI:25912\n",
      "D-glutamine CHEBI:17061\n",
      "Gln-Leu CHEBI:141429\n",
      "Gln-Leu-Leu-Pro CHEBI:73463\n",
      "gamma-Glu-Gln CHEBI:73707\n",
      "gamma-L-glutamylputrescinium(1+) CHEBI:58731\n",
      "Leu-Thr-Gln CHEBI:73574\n",
      "Gln-Tyr CHEBI:141432\n",
      "2-methyl-L-glutamine CHEBI:43949\n",
      "Lys-Gln CHEBI:73600\n",
      "D-glutaminium CHEBI:32673\n",
      "glutaurine CHEBI:27694\n",
      "L-glutamine amide CHEBI:21309\n",
      "L-glutamine 2-naphthylamide CHEBI:90446\n",
      "Gln-Asn CHEBI:141428\n",
      "N-L-glutamyl-poly-L-glutamic acid CHEBI:21490\n",
      "N-(gamma-L-glutamyl)-L-alaninol CHEBI:85894\n",
      "gamma-glutamyl-beta-cyanoalanine CHEBI:10565\n",
      "gamma-glutamyl-beta-aminopropiononitrile CHEBI:28092\n",
      "tetrahydrofolyl-poly(glutamic acid) macromolecule CHEBI:28624\n",
      "10-formyltetrahydrofolyl-L-glutamate CHEBI:27862\n",
      "indigoidine CHEBI:79296\n",
      "Theanine glucoside CHEBI:136628\n",
      "N-oleoyl-L-glutamine CHEBI:136615\n",
      "beta-chrysopine CHEBI:83081\n",
      "Glu-Asp-Gln-Gln CHEBI:73465\n",
      "N(5)-methyl-L-glutamine CHEBI:17592\n",
      "Ala-Leu-Thr-Gln CHEBI:73372\n",
      "N(2)-acyl-L-glutamine CHEBI:17008\n",
      "Gln-Phe CHEBI:141430\n",
      "(2S,4S)-Pinnatanine CHEBI:143049\n",
      "gamma-L-glutamylputrescine CHEBI:48005\n",
      "(R)-proglumide CHEBI:76267\n",
      "D-glutamine derivative CHEBI:83987\n",
      "Arg-Asp-Gln-Ser CHEBI:137242\n",
      "N-(indol-3-ylacetyl)glutamine CHEBI:70811\n",
      "N(2)-(3-hydroxy-3-methylhexanoyl)-L-glutamine CHEBI:145323\n",
      "N(2)-acetylglutamine CHEBI:73685\n",
      "tetrahydrofolyl glutamate CHEBI:26908\n",
      "N-acetyl-L-glutamine CHEBI:21553\n",
      "5,10-methylenetetrahydrofolylpolyglutamate CHEBI:20503\n",
      "N(2)-benzoyl-N,N-dipropyl-alpha-glutamine CHEBI:76266\n",
      "(2R)-2-amino-5-[2-(3,4-dihydroxyphenyl)ethylamino]-5-oxopentanoic acid CHEBI:125658\n",
      "Glu-Gln CHEBI:141435\n",
      "glutamine derivative CHEBI:70813\n",
      "3'-L-glutaminyl-AMP CHEBI:131558\n",
      "L-glutamyl 5-glycerophosphoethanolamine CHEBI:21311\n",
      "N(5)-phospho-L-glutamine CHEBI:139506\n",
      "phenylacetylglutamine CHEBI:25982\n",
      "Leu-Asp-Gln CHEBI:73561\n",
      "L-glutaminium CHEBI:32666\n",
      "Asp-Leu-Asp-Gln CHEBI:73428\n",
      "Asp-Leu-Leu-Gln CHEBI:73429\n",
      "N(5)-alkyl-L-glutamine CHEBI:21844\n",
      "N(2)-[4-(indol-3-yl)butanoyl]-L-glutamine CHEBI:144365\n",
      "peptidyl-glutamine CHEBI:25919\n",
      "Glu-Glu-Gln CHEBI:144559\n",
      "Ala-Asn-Gln-Ser CHEBI:73331\n",
      "L-glutamine CHEBI:18050\n",
      "N-isopropyl-L-glutamine CHEBI:85891\n"
     ]
    }
   ],
   "source": [
    "from indra.ontology.bio import bio_ontology\n",
    "glutamine_term = ground('glutamine')[0].term\n",
    "children = bio_ontology.get_children(glutamine_term.db, glutamine_term.id)\n",
    "for child in children:\n",
    "    print(bio_ontology.get_name(*child), child[1])"
   ]
  },
  {
   "cell_type": "code",
   "execution_count": null,
   "metadata": {},
   "outputs": [],
   "source": []
  }
 ],
 "metadata": {
  "kernelspec": {
   "display_name": "Python 3",
   "language": "python",
   "name": "python3"
  },
  "language_info": {
   "codemirror_mode": {
    "name": "ipython",
    "version": 3
   },
   "file_extension": ".py",
   "mimetype": "text/x-python",
   "name": "python",
   "nbconvert_exporter": "python",
   "pygments_lexer": "ipython3",
   "version": "3.9.0"
  }
 },
 "nbformat": 4,
 "nbformat_minor": 4
}
