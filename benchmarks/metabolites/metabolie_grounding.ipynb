{
 "cells": [
  {
   "cell_type": "markdown",
   "metadata": {},
   "source": [
    "# Grounding a list of metabolites"
   ]
  },
  {
   "cell_type": "code",
   "execution_count": 1,
   "metadata": {},
   "outputs": [
    {
     "name": "stderr",
     "output_type": "stream",
     "text": [
      "INFO: [2020-12-17 09:52:51] /Users/ben/Dropbox/postdoc/darpa/src/deft/adeft/recognize.py - OneShotRecognizer not available. Extension module for AlignmentBasedScorer is missing\n"
     ]
    }
   ],
   "source": [
    "import re\n",
    "from gilda import ground"
   ]
  },
  {
   "cell_type": "markdown",
   "metadata": {},
   "source": [
    "We define some basic functions to load the strings and run Gilda on them. We also define a function to print grounding stats and print out any ungrounded strings."
   ]
  },
  {
   "cell_type": "code",
   "execution_count": 2,
   "metadata": {},
   "outputs": [],
   "source": [
    "def load_texts():\n",
    "    with open('plasmax_name_to_kegg.txt') as fh:\n",
    "        texts = [l.strip().split(',')[0] for l in fh.readlines()][1:]\n",
    "    return sorted(set(texts))\n",
    "\n",
    "def ground_texts(texts, grounding_fun):\n",
    "    return {text: grounding_fun(text) for text in texts}\n",
    "\n",
    "def print_grounding_stats(groundings):\n",
    "    grounded = [t for t, g in groundings.items() if g]\n",
    "    ungrounded = [t for t, g in groundings.items() if not g]\n",
    "    num_texts = len(groundings)\n",
    "    print('Grounded: %d/%d (%.2f%%)' % (len(grounded), num_texts, 100*len(grounded)/num_texts))\n",
    "    print(ungrounded)"
   ]
  },
  {
   "cell_type": "markdown",
   "metadata": {},
   "source": [
    "First we try running Gilda without any modifications and see what happens"
   ]
  },
  {
   "cell_type": "code",
   "execution_count": 3,
   "metadata": {
    "scrolled": true
   },
   "outputs": [
    {
     "name": "stdout",
     "output_type": "stream",
     "text": [
      "Grounded: 163/230 (70.87%)\n",
      "['2-aminomuconicacid', '2-hg', '2/3-phosphoglycerate', '4-pyridoxicacid', '5-phosphoribosyl-1-pyrophosphate', '6-phosphogluconate', 'aconitate', 'akg', 'argininosuccinate', 'ascorbicacid', 'carbamoyl_phosphate', 'carbamoylaspartate', 'carbamoylphosphate', 'cmp-acetylneuraminicacid', 'cysteicacid', 'dihydroacetonephosphate', 'dihydroxyacetonephosphate', 'fructose-16-bisphosphate', 'fructose1-6-bisphosphate', 'fructose1_6-biphosphate', 'glucosamine-6-phosphate', 'glucosamine6-phosphate', 'glutathioneoxidized', 'hydroxyphenyllacticacid', 'indole-3-lacticacid', 'isethionicacid', 'kiv', 'kmv+kic', 'kynurenic_acid', 'kynurenicacid', 'lactoylgsh', 'linoleicacid', 'mannitol/sorbitol', 'methioninesulfoxide', 'methyltryptophan', 'mevalonicacid', 'mevalonicacid5-pyrophosphate', 'myristic_acid', 'myristicacid', 'n-acetylglutamate', 'n-acetylneuramicacid', 'n-methylnicotinamide(nmnm)', 'nicotinamide/picolinamide', 'nicotinamidemononucleotide(nmn)', 'oleic_acid', 'oleicacid', 'oleoamide', 'oroticacid', 'palmitic_acid', 'palmiticacid', 'palmitoleicacid', 'palmitoylcarnitinec16', 'pentose5-phosphates', 'phenolsulphate', 'pipecolicacid', 'pyridoxide', 'pyroglutamicacid', 'quinolinicacid', 'ribitol/arabitol', 'sedoheptulose7-phosphate', 'seduheptulose7-phosphate', 'staericacid', 'stearicacid', 'stereamide', 'succinicglutathione', 'succinylglutathione', 'uricacid']\n"
     ]
    }
   ],
   "source": [
    "texts = load_texts()\n",
    "results = ground_texts(texts, ground)\n",
    "print_grounding_stats(results)"
   ]
  },
  {
   "cell_type": "markdown",
   "metadata": {},
   "source": [
    "It looks like 71% was grounded. Here is one example, each result is a list of ScoredMatch objects that each contain a Term and some metadata. The grounding is included in the Term. Matches are sorted by decreasing score with the highest scoring match on top."
   ]
  },
  {
   "cell_type": "code",
   "execution_count": 4,
   "metadata": {},
   "outputs": [
    {
     "name": "stdout",
     "output_type": "stream",
     "text": [
      "[ScoredMatch(Term(lactate,lactate,CHEBI,CHEBI:24996,lactate,assertion,famplex,None),1.0,Match(query=lactate,ref=lactate,exact=True,space_mismatch=False,dash_mismatches={},cap_combos=[]))]\n",
      "CHEBI CHEBI:24996\n"
     ]
    }
   ],
   "source": [
    "print(results['lactate'])\n",
    "print(results['lactate'][0].term.db, results['lactate'][0].term.id)"
   ]
  },
  {
   "cell_type": "markdown",
   "metadata": {},
   "source": [
    "Upon examination, the entries in the ungrounded list have some patterns of issues that can be fixed with some preprocessing in the `preprocess_text` function. We can then define and use `ground_preprocess` which preprocesses each text before grounding it with Gilda."
   ]
  },
  {
   "cell_type": "code",
   "execution_count": 5,
   "metadata": {},
   "outputs": [
    {
     "name": "stdout",
     "output_type": "stream",
     "text": [
      "Grounded: 195/230 (84.78%)\n",
      "['2-hg', '2/3-phosphoglycerate', '5-phosphoribosyl-1-pyrophosphate', '6-phosphogluconate', 'aconitate', 'akg', 'argininosuccinate', 'carbamoylaspartate', 'carbamoylphosphate', 'dihydroacetonephosphate', 'dihydroxyacetonephosphate', 'fructose-16-bisphosphate', 'fructose1-6-bisphosphate', 'fructose1_6-biphosphate', 'glucosamine-6-phosphate', 'glucosamine6-phosphate', 'glutathioneoxidized', 'hydroxyphenyllacticacid', 'kiv', 'kmv+kic', 'lactoylgsh', 'methioninesulfoxide', 'methyltryptophan', 'mevalonicacid5-pyrophosphate', 'n-acetylglutamate', 'n-acetylneuramicacid', 'oleoamide', 'palmitoylcarnitinec16', 'pentose5-phosphates', 'phenolsulphate', 'pyridoxide', 'sedoheptulose7-phosphate', 'seduheptulose7-phosphate', 'succinicglutathione', 'succinylglutathione']\n"
     ]
    }
   ],
   "source": [
    "typos = {\n",
    "    'stereamide': 'stearamide',\n",
    "    'staericacid': 'stearicacid',\n",
    "}\n",
    "\n",
    "def preprocess_text(text):\n",
    "    if text in typos:\n",
    "        text = typos[text]\n",
    "    # Example: nicotinamidemononucleotide(nmn)\n",
    "    text = re.sub('(\\([a-zA-Z]+\\))$', '', text)\n",
    "    # Example: palmitic_acid\n",
    "    text = text.replace('_', ' ')\n",
    "    # Example: pipecolicacid\n",
    "    suffixes = ['acid', 'mononucleotide']\n",
    "    for suffix in suffixes:\n",
    "        text = re.sub('([^ ])(%s)$' % suffix, '\\\\1 %s' % suffix, text)\n",
    "    # Example: nicotinamide/picolinamide\n",
    "    if '/' in text:\n",
    "        text = text.split('/')[0]\n",
    "    return text\n",
    "        \n",
    "def ground_preprocess(text):\n",
    "    text = preprocess_text(text)\n",
    "    return ground(text)\n",
    "\n",
    "results = ground_texts(texts, ground_preprocess)\n",
    "print_grounding_stats(results)"
   ]
  },
  {
   "cell_type": "markdown",
   "metadata": {},
   "source": [
    "Gilda doesn't have the right synonyms to find groundings for these remaining ungrounded texts."
   ]
  },
  {
   "cell_type": "markdown",
   "metadata": {},
   "source": [
    "### Standardizing the results"
   ]
  },
  {
   "cell_type": "markdown",
   "metadata": {},
   "source": [
    "INDRA offers utilities to map identifiers and standardize names which can be useful in this setting, see https://indra.readthedocs.io/en/latest/modules/ontology/standardize.html."
   ]
  },
  {
   "cell_type": "code",
   "execution_count": 6,
   "metadata": {},
   "outputs": [],
   "source": [
    "from indra.ontology.standardize import standardize_name_db_refs"
   ]
  },
  {
   "cell_type": "code",
   "execution_count": 7,
   "metadata": {},
   "outputs": [
    {
     "name": "stderr",
     "output_type": "stream",
     "text": [
      "INFO: [2020-12-17 09:53:11] indra.ontology.bio.ontology - Loading INDRA bio ontology from cache at /Users/ben/.indra/bio_ontology/1.5/bio_ontology.pkl\n"
     ]
    },
    {
     "data": {
      "text/plain": [
       "('lactate', {'CHEBI': 'CHEBI:24996', 'CAS': '113-21-3', 'PUBCHEM': '91435'})"
      ]
     },
     "execution_count": 7,
     "metadata": {},
     "output_type": "execute_result"
    }
   ],
   "source": [
    "standardize_name_db_refs({results['lactate'][0].term.db: results['lactate'][0].term.id})"
   ]
  },
  {
   "cell_type": "markdown",
   "metadata": {},
   "source": [
    "We see that the standard name for this entry from CHEBI is `lactate` and we were able to get CAS and PUBCHEM mappings for it."
   ]
  },
  {
   "cell_type": "markdown",
   "metadata": {},
   "source": [
    "We can also look at ontological information for the grounded entries via INDRA as follows."
   ]
  },
  {
   "cell_type": "code",
   "execution_count": 9,
   "metadata": {},
   "outputs": [
    {
     "data": {
      "text/plain": [
       "[('CHEBI', 'CHEBI:144430'),\n",
       " ('CHEBI', 'CHEBI:83985'),\n",
       " ('CHEBI', 'CHEBI:83080'),\n",
       " ('CHEBI', 'CHEBI:26173'),\n",
       " ('CHEBI', 'CHEBI:144458'),\n",
       " ('CHEBI', 'CHEBI:137239'),\n",
       " ('CHEBI', 'CHEBI:16376'),\n",
       " ('CHEBI', 'CHEBI:144427'),\n",
       " ('CHEBI', 'CHEBI:90444'),\n",
       " ('CHEBI', 'CHEBI:138505'),\n",
       " ('CHEBI', 'CHEBI:48006'),\n",
       " ('CHEBI', 'CHEBI:79289'),\n",
       " ('CHEBI', 'CHEBI:72487'),\n",
       " ('CHEBI', 'CHEBI:73488'),\n",
       " ('CHEBI', 'CHEBI:141431'),\n",
       " ('CHEBI', 'CHEBI:88248'),\n",
       " ('CHEBI', 'CHEBI:72495'),\n",
       " ('CHEBI', 'CHEBI:145321'),\n",
       " ('CHEBI', 'CHEBI:3875'),\n",
       " ('CHEBI', 'CHEBI:17394'),\n",
       " ('CHEBI', 'CHEBI:8087'),\n",
       " ('CHEBI', 'CHEBI:24317'),\n",
       " ('CHEBI', 'CHEBI:73397'),\n",
       " ('CHEBI', 'CHEBI:84058'),\n",
       " ('CHEBI', 'CHEBI:27650'),\n",
       " ('CHEBI', 'CHEBI:73447'),\n",
       " ('CHEBI', 'CHEBI:19111'),\n",
       " ('CHEBI', 'CHEBI:84215'),\n",
       " ('CHEBI', 'CHEBI:144862'),\n",
       " ('CHEBI', 'CHEBI:73846'),\n",
       " ('CHEBI', 'CHEBI:141433'),\n",
       " ('CHEBI', 'CHEBI:17884'),\n",
       " ('CHEBI', 'CHEBI:80662'),\n",
       " ('CHEBI', 'CHEBI:73464'),\n",
       " ('CHEBI', 'CHEBI:32679'),\n",
       " ('CHEBI', 'CHEBI:61521'),\n",
       " ('CHEBI', 'CHEBI:76268'),\n",
       " ('CHEBI', 'CHEBI:134412'),\n",
       " ('CHEBI', 'CHEBI:31161'),\n",
       " ('CHEBI', 'CHEBI:73448'),\n",
       " ('CHEBI', 'CHEBI:83079'),\n",
       " ('CHEBI', 'CHEBI:68512'),\n",
       " ('CHEBI', 'CHEBI:73421'),\n",
       " ('CHEBI', 'CHEBI:73437'),\n",
       " ('CHEBI', 'CHEBI:73347'),\n",
       " ('CHEBI', 'CHEBI:25912'),\n",
       " ('CHEBI', 'CHEBI:17061'),\n",
       " ('CHEBI', 'CHEBI:141429'),\n",
       " ('CHEBI', 'CHEBI:73463'),\n",
       " ('CHEBI', 'CHEBI:73707'),\n",
       " ('CHEBI', 'CHEBI:58731'),\n",
       " ('CHEBI', 'CHEBI:73574'),\n",
       " ('CHEBI', 'CHEBI:141432'),\n",
       " ('CHEBI', 'CHEBI:43949'),\n",
       " ('CHEBI', 'CHEBI:73600'),\n",
       " ('CHEBI', 'CHEBI:32673'),\n",
       " ('CHEBI', 'CHEBI:27694'),\n",
       " ('CHEBI', 'CHEBI:21309'),\n",
       " ('CHEBI', 'CHEBI:90446'),\n",
       " ('CHEBI', 'CHEBI:141428'),\n",
       " ('CHEBI', 'CHEBI:21490'),\n",
       " ('CHEBI', 'CHEBI:85894'),\n",
       " ('CHEBI', 'CHEBI:10565'),\n",
       " ('CHEBI', 'CHEBI:28092'),\n",
       " ('CHEBI', 'CHEBI:28624'),\n",
       " ('CHEBI', 'CHEBI:27862'),\n",
       " ('CHEBI', 'CHEBI:79296'),\n",
       " ('CHEBI', 'CHEBI:136628'),\n",
       " ('CHEBI', 'CHEBI:136615'),\n",
       " ('CHEBI', 'CHEBI:83081'),\n",
       " ('CHEBI', 'CHEBI:73465'),\n",
       " ('CHEBI', 'CHEBI:17592'),\n",
       " ('CHEBI', 'CHEBI:73372'),\n",
       " ('CHEBI', 'CHEBI:17008'),\n",
       " ('CHEBI', 'CHEBI:141430'),\n",
       " ('CHEBI', 'CHEBI:143049'),\n",
       " ('CHEBI', 'CHEBI:48005'),\n",
       " ('CHEBI', 'CHEBI:76267'),\n",
       " ('CHEBI', 'CHEBI:83987'),\n",
       " ('CHEBI', 'CHEBI:137242'),\n",
       " ('CHEBI', 'CHEBI:70811'),\n",
       " ('CHEBI', 'CHEBI:145323'),\n",
       " ('CHEBI', 'CHEBI:73685'),\n",
       " ('CHEBI', 'CHEBI:26908'),\n",
       " ('CHEBI', 'CHEBI:21553'),\n",
       " ('CHEBI', 'CHEBI:20503'),\n",
       " ('CHEBI', 'CHEBI:76266'),\n",
       " ('CHEBI', 'CHEBI:125658'),\n",
       " ('CHEBI', 'CHEBI:141435'),\n",
       " ('CHEBI', 'CHEBI:70813'),\n",
       " ('CHEBI', 'CHEBI:131558'),\n",
       " ('CHEBI', 'CHEBI:21311'),\n",
       " ('CHEBI', 'CHEBI:139506'),\n",
       " ('CHEBI', 'CHEBI:25982'),\n",
       " ('CHEBI', 'CHEBI:73561'),\n",
       " ('CHEBI', 'CHEBI:32666'),\n",
       " ('CHEBI', 'CHEBI:73428'),\n",
       " ('CHEBI', 'CHEBI:73429'),\n",
       " ('CHEBI', 'CHEBI:21844'),\n",
       " ('CHEBI', 'CHEBI:144365'),\n",
       " ('CHEBI', 'CHEBI:25919'),\n",
       " ('CHEBI', 'CHEBI:144559'),\n",
       " ('CHEBI', 'CHEBI:73331'),\n",
       " ('CHEBI', 'CHEBI:18050'),\n",
       " ('CHEBI', 'CHEBI:85891')]"
      ]
     },
     "execution_count": 9,
     "metadata": {},
     "output_type": "execute_result"
    }
   ],
   "source": [
    "from indra.ontology.bio import bio_ontology\n",
    "glutamine_term = ground('glutamine')[0].term\n",
    "children = bio_ontology.get_children(glutamine_term.db, glutamine_term.id)\n",
    "for c"
   ]
  },
  {
   "cell_type": "code",
   "execution_count": null,
   "metadata": {},
   "outputs": [],
   "source": []
  }
 ],
 "metadata": {
  "kernelspec": {
   "display_name": "Python 3",
   "language": "python",
   "name": "python3"
  },
  "language_info": {
   "codemirror_mode": {
    "name": "ipython",
    "version": 3
   },
   "file_extension": ".py",
   "mimetype": "text/x-python",
   "name": "python",
   "nbconvert_exporter": "python",
   "pygments_lexer": "ipython3",
   "version": "3.9.0"
  }
 },
 "nbformat": 4,
 "nbformat_minor": 4
}
